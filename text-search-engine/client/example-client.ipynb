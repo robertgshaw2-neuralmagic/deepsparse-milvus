{
 "cells": [
  {
   "cell_type": "code",
   "execution_count": 9,
   "id": "d7251e09",
   "metadata": {},
   "outputs": [],
   "source": [
    "import requests\n",
    "\n",
    "base_url = \"localhost\""
   ]
  },
  {
   "cell_type": "code",
   "execution_count": 10,
   "id": "026f4da3",
   "metadata": {},
   "outputs": [
    {
     "name": "stdout",
     "output_type": "stream",
     "text": [
      "\"Successfully dropped collection\"\n"
     ]
    }
   ],
   "source": [
    "url = f'http://{base_url}:5000/drop'\n",
    "\n",
    "response = requests.post(url)\n",
    "print(response.text)"
   ]
  },
  {
   "cell_type": "code",
   "execution_count": 11,
   "id": "f5c8f836",
   "metadata": {},
   "outputs": [
    {
     "name": "stdout",
     "output_type": "stream",
     "text": [
      "\"Successfully loaded data\"\n"
     ]
    }
   ],
   "source": [
    "url = f'http://{base_url}:5000/load'\n",
    "\n",
    "response = requests.post(url)\n",
    "print(response.text)"
   ]
  },
  {
   "cell_type": "code",
   "execution_count": 13,
   "id": "a0e23382",
   "metadata": {},
   "outputs": [
    {
     "name": "stdout",
     "output_type": "stream",
     "text": [
      "160\n"
     ]
    }
   ],
   "source": [
    "url = f'http://{base_url}:5000/count'\n",
    "\n",
    "response = requests.post(url)\n",
    "print(response.text)"
   ]
  },
  {
   "cell_type": "code",
   "execution_count": 14,
   "id": "af3f8241",
   "metadata": {},
   "outputs": [],
   "source": [
    "import json\n",
    "from pprint import pprint"
   ]
  },
  {
   "cell_type": "code",
   "execution_count": 15,
   "id": "94d6534f",
   "metadata": {},
   "outputs": [
    {
     "name": "stdout",
     "output_type": "stream",
     "text": [
      "('The United States has brokered a  cease-fire between a renegade Afghan '\n",
      " 'militia leader and the  embattled governor of the western province of '\n",
      " \"Herat,  Washington's envoy to Kabul said Tuesday.\")\n"
     ]
    }
   ],
   "source": [
    "sentence = \"The United States has brokered a  cease-fire between a renegade Afghan militia leader and the  embattled governor of the western province of Herat,  Washington's envoy to Kabul said Tuesday.\"\n",
    "pprint(sentence)"
   ]
  },
  {
   "cell_type": "code",
   "execution_count": 37,
   "id": "343ee35c",
   "metadata": {},
   "outputs": [],
   "source": [
    "for _ in range(50):\n",
    "    query_str = \"query_sentence=\" + sentence\n",
    "    url = f'http://{base_url}:5000/search'\n",
    "    response = json.loads(requests.get(url, query_str).text)"
   ]
  },
  {
   "cell_type": "code",
   "execution_count": 38,
   "id": "720c7177",
   "metadata": {},
   "outputs": [
    {
     "name": "stdout",
     "output_type": "stream",
     "text": [
      "U.S. Brokers Cease-fire in Western Afghanistan\n",
      "Afghan Army Dispatched to Calm Violence\n",
      "Delegates Urge Cleric to Pull Out of Najaf\n",
      "Delegation Is Delayed Before Reaching Najaf\n",
      "Karzai Promises Afghans Security for Election (Reuters)\n",
      "Georgian president calls for international conference on South Ossetia\n",
      "Fresh Fighting Shatters Short-Lived Ceasefire Deal\n",
      "Iran Warns Its Missiles Can Hit Anywhere in Israel\n",
      "Peace delegation leaves Najaf empty-handed as fighting continues\n"
     ]
    }
   ],
   "source": [
    "for idx in response:\n",
    "    print(response[idx]['title'])"
   ]
  },
  {
   "cell_type": "code",
   "execution_count": 39,
   "id": "4a9ad6e9",
   "metadata": {},
   "outputs": [
    {
     "name": "stdout",
     "output_type": "stream",
     "text": [
      "<Response [200]>\n",
      "{\"count\":50,\"median\":108.31029349901655,\"mean\":109.63547932013171,\"std\":3.1084856425980476}\n"
     ]
    }
   ],
   "source": [
    "url = f'http://{base_url}:5000/latency'\n",
    "\n",
    "response = requests.post(url)\n",
    "print(response)\n",
    "print(response.text)"
   ]
  },
  {
   "cell_type": "code",
   "execution_count": 40,
   "id": "6e9005f3",
   "metadata": {},
   "outputs": [
    {
     "name": "stdout",
     "output_type": "stream",
     "text": [
      "{'count': 50,\n",
      " 'mean': 109.63547932013171,\n",
      " 'median': 108.31029349901655,\n",
      " 'std': 3.1084856425980476}\n"
     ]
    }
   ],
   "source": [
    "pprint(json.loads(response.text))"
   ]
  }
 ],
 "metadata": {
  "kernelspec": {
   "display_name": "deepsparse-milvus-client-env",
   "language": "python",
   "name": "deepsparse-milvus-client-env"
  },
  "language_info": {
   "codemirror_mode": {
    "name": "ipython",
    "version": 3
   },
   "file_extension": ".py",
   "mimetype": "text/x-python",
   "name": "python",
   "nbconvert_exporter": "python",
   "pygments_lexer": "ipython3",
   "version": "3.9.12"
  }
 },
 "nbformat": 4,
 "nbformat_minor": 5
}
