{
 "cells": [
  {
   "cell_type": "markdown",
   "id": "72ce5274",
   "metadata": {},
   "source": [
    "# **DeepSparse-Milvus Semantic Search Client**\n",
    "\n",
    "This notebook demonstrates how to interact with the Semantic Search application over HTTP."
   ]
  },
  {
   "cell_type": "code",
   "execution_count": 1,
   "id": "d7251e09",
   "metadata": {},
   "outputs": [],
   "source": [
    "import requests\n",
    "\n",
    "# if running on localhost\n",
    "# base_url = \"localhost\"\n",
    "\n",
    "# if running on AWS - add your app servers' public IP\n",
    "base_url = \"34.227.11.121\""
   ]
  },
  {
   "cell_type": "markdown",
   "id": "dcc16555",
   "metadata": {},
   "source": [
    "### **Drop Existing Data**\n",
    "\n",
    "`/drop` route used to drop existing colleciton if it exists."
   ]
  },
  {
   "cell_type": "code",
   "execution_count": 2,
   "id": "026f4da3",
   "metadata": {},
   "outputs": [
    {
     "name": "stdout",
     "output_type": "stream",
     "text": [
      "\"Collection does not exist\"\n"
     ]
    }
   ],
   "source": [
    "# /drop path drops the collection\n",
    "url = f'http://{base_url}:5000/drop'\n",
    "\n",
    "response = requests.post(url)\n",
    "print(response.text)"
   ]
  },
  {
   "cell_type": "markdown",
   "id": "392f639e",
   "metadata": {},
   "source": [
    "### **Load New Data**\n",
    "\n",
    "`/load` route used to generate embeddings with DeepSparse and load data into Milvus.\n",
    "\n",
    "The `/load` path accepts a `csv` file with `(title, text)` pairs. When called, this endpoint generates `embeddings` with DeepSparse on each `text` and inserts the `(id, embedding)` in Milvus and the `(id, title, text)`. Since we are generating embeddings for every element in the list, this may take a bit of time.\n",
    "\n",
    "There is an `example.csv` file available."
   ]
  },
  {
   "cell_type": "code",
   "execution_count": 3,
   "id": "f5c8f836",
   "metadata": {},
   "outputs": [
    {
     "name": "stdout",
     "output_type": "stream",
     "text": [
      "Internal Server Error\n"
     ]
    }
   ],
   "source": [
    "url = f'http://{base_url}:5000/load'\n",
    "\n",
    "response = requests.post(url, files={\n",
    "    'file': open('example.csv', 'rb')\n",
    "})\n",
    "print(response.text)"
   ]
  },
  {
   "cell_type": "markdown",
   "id": "78389ce0",
   "metadata": {},
   "source": [
    "### **Check It Worked**\n",
    "\n",
    "`/count` route allows you to check the number of elements in the database. You should see 160 if you used the `example.csv` file."
   ]
  },
  {
   "cell_type": "code",
   "execution_count": null,
   "id": "a0e23382",
   "metadata": {},
   "outputs": [],
   "source": [
    "url = f'http://{base_url}:5000/count'\n",
    "\n",
    "response = requests.post(url)\n",
    "print(response.text)"
   ]
  },
  {
   "cell_type": "markdown",
   "id": "578e6e52",
   "metadata": {},
   "source": [
    "### **Search The Database**\n",
    "\n",
    "`/search` endpoint accepts a sentence over `GET`. Let's try 50 uploads to see what the responses and latency looks like."
   ]
  },
  {
   "cell_type": "code",
   "execution_count": null,
   "id": "94d6534f",
   "metadata": {},
   "outputs": [],
   "source": [
    "sentence = \"The United States has brokered a  cease-fire between a renegade Afghan militia leader and the  embattled governor of the western province of Herat,  Washington's envoy to Kabul said Tuesday.\"\n",
    "print(sentence)"
   ]
  },
  {
   "cell_type": "code",
   "execution_count": null,
   "id": "343ee35c",
   "metadata": {},
   "outputs": [],
   "source": [
    "import json\n",
    "for _ in range(50):\n",
    "    query_str = \"query_sentence=\" + sentence\n",
    "    url = f'http://{base_url}:5000/search'\n",
    "    response = json.loads(requests.get(url, query_str).text)"
   ]
  },
  {
   "cell_type": "markdown",
   "id": "8de9d77d",
   "metadata": {},
   "source": [
    "We can see that the responses include articles that are similiar to the baseline text."
   ]
  },
  {
   "cell_type": "code",
   "execution_count": null,
   "id": "720c7177",
   "metadata": {},
   "outputs": [],
   "source": [
    "for idx in response:\n",
    "    print(response[idx]['title'])"
   ]
  },
  {
   "cell_type": "markdown",
   "id": "18098ac2",
   "metadata": {},
   "source": [
    "### **Check Latency**\n",
    "\n",
    "`/latency` endpoint checks the latency of recent calls. Calling the endpoint also clears old latency data."
   ]
  },
  {
   "cell_type": "code",
   "execution_count": null,
   "id": "4a9ad6e9",
   "metadata": {},
   "outputs": [],
   "source": [
    "url = f'http://{base_url}:5000/latency'\n",
    "\n",
    "response = requests.post(url)\n",
    "pprint(json.loads(response.text))"
   ]
  }
 ],
 "metadata": {
  "kernelspec": {
   "display_name": "Python 3 (ipykernel)",
   "language": "python",
   "name": "python3"
  },
  "language_info": {
   "codemirror_mode": {
    "name": "ipython",
    "version": 3
   },
   "file_extension": ".py",
   "mimetype": "text/x-python",
   "name": "python",
   "nbconvert_exporter": "python",
   "pygments_lexer": "ipython3",
   "version": "3.8.10"
  }
 },
 "nbformat": 4,
 "nbformat_minor": 5
}
